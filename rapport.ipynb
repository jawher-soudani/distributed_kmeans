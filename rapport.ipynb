{
 "cells": [
  {
   "cell_type": "markdown",
   "metadata": {
    "colab_type": "text",
    "id": "52Uo09oGBlhi"
   },
   "source": [
    "<center><h1>K-Means Distributed Clustering  avec MapReduce  et Hadoop</h1></center>"
   ]
  },
  {
   "cell_type": "markdown",
   "metadata": {
    "colab_type": "text",
    "id": "IfTAx4NT1r_U"
   },
   "source": [
    "## __Démo Video__ : https://youtu.be/jvmfOnJzsXk\n",
    "<br>\n",
    "__Auteurs__ : SOUDANI Jawher , FERJANI Ahmed\n",
    "<br>\n",
    "__Copyright__ : Big Data Frameworks\n",
    "\n",
    "![alt text](https://scontent-cdg2-1.xx.fbcdn.net/v/t34.0-12/25359995_270997116758890_54276442_n.png?oh=77e3dd030e8ae940a7c8b56129e9ee44&oe=5A34113A)"
   ]
  },
  {
   "cell_type": "markdown",
   "metadata": {
    "colab_type": "text",
    "id": "8YWVyxtSBlhj"
   },
   "source": [
    "## Introduction"
   ]
  },
  {
   "cell_type": "markdown",
   "metadata": {
    "colab_type": "text",
    "id": "Jsd3yyzhBlhk"
   },
   "source": [
    "Avec le développement technologique, les volumes de données traitées par de nombreuses applications dépassent régulièrement le seuil de péta-byte, ce qui à son tour fait augmenter les exigences de calcul. <br>\n",
    "Des algorithmes efficaces de parallel clustering sont la clé pour répondre à l'évolutivité (scalability) et les exigences de performance inhérentes à ces analyses de données scientifiques. <br>\n",
    "Jusqu'à présent, plusieurs algorithmes de parallel clustering ont été proposés mais ils présentent les inconvénients suivants: <br>\n",
    " - Ils supposent que tous les objets peuvent résider dans la mémoire principale en même temps.\n",
    " - ces systèmesp roposent des modèles de programmation qui utilisent des restrictions pour paralléliser le calcul automatiquement.\n",
    " \n",
    " \n",
    "Ces deux hypothèses ne sont pas adéquates pour un grand jeu de données c'est pourquoi il est nécessaire de développer des algorithmes de parallel clustering.<br>\n",
    "MapReduce est un modèle de programmation avec une implémentation associée pour gérer et traiter de grands volumes de données efficacement ce qui convient parfaitement aux tâches réelles. <br>\n",
    "Dans ce rapport, nous adaptons l'algorithme k-means dans le framework MapReduce qui est implémenté par Hadoop pour rendre la méthode de clustering applicable à données à grande échelle.\n"
   ]
  },
  {
   "cell_type": "markdown",
   "metadata": {
    "colab_type": "text",
    "id": "azuN-shsBlhl"
   },
   "source": [
    "## 1. L' algorithme de Kmeans"
   ]
  },
  {
   "cell_type": "markdown",
   "metadata": {
    "colab_type": "text",
    "id": "olyypZjoj5Wt"
   },
   "source": [
    "L'algorithme K-means est la méthode de  clustering la plus connue et la plus utilisée. Elle prend comme paramètre d'entrée, k (le nombre de clusters), et partitionne un ensemble de n objets dans k clusters de sorte que la similarité intra-cluster résultant est élevé alors que la similarité inter-cluster  est faible. <br>\n",
    "La similarité entre clusters est mesurée en fonction de la valeur moyenne des objets dans le cluster, qui peut être considéré comme le \"centre du gravité \" du cluster ou médoïde. <br>\n",
    "L'algorithme procède comme suit: \n",
    "- Premièrement, il sélectionne aléatoirement k objets parmi tous les objets. Ces points sélectionnés représentent les centres initiaux des clusters.\n",
    "- Chacun des points restants est affecté au cluster auquel il est le plus similaire, en fonction de la distance entre le point et le centre du cluster. (par exemple, si on utilise la distance euclidienne comme mesure de similarité, on doit affecter le point au cluster dont la distance entre ce point et le centre de cluster est minimale.)\n",
    "- Finalement, on met à jour le nouveau centroïde.  Ce processus réitère jusqu'à ce que la fonction de perte converge (erreur minimale ou pas de changement des centroïdes par rapport à l'étape précédente.)."
   ]
  },
  {
   "cell_type": "markdown",
   "metadata": {
    "colab_type": "text",
    "id": "Ij1mSiiJn_gN"
   },
   "source": [
    "### ***Pseudo Code de K_means:***\n",
    "Supposons qu'on a un ensmeble d'apprentissage: $x^{(1)}, ..., x^{(m)}$, on voulait grouper ces données des quelques clusters \"cohérents\". L'objectif est de prédire k-centroïdes et un label $c^{(i)}$ pour chaque point (ce n'est pas de la classification supervisée mais $x^{(i)}$ mesure l'appartenance d'un point i à l'un des clusters). <br>\n",
    "\n",
    "**1. initialiser les centroïdes $\\mu_1, \\mu_2,..., \\mu_k ~ \\in \\mathbb{R}^n$ ** <br>\n",
    "**2. Répéter jusqu'à convergence : { ** <br>\n",
    "\n",
    "\n",
    "\n",
    "> pour chaque i, $c^{(i)} = \\underset{j}{\\operatorname{argmin}} ||x^{(i)} - \\mu_j ||^2 $\n",
    "\n",
    "\n",
    "> pour chaque j,  $\\mu_j = \\frac{\\sum_{i=1}^m \\mathbb{1}\\{c^{(i)} =j\\}x^{(i)}}{\\sum_{i=1}^m \\mathbb{1}\\{c^{(i)} =j\\}}$\n",
    "\n",
    "> **}**\n",
    "\n"
   ]
  },
  {
   "cell_type": "markdown",
   "metadata": {
    "colab_type": "text",
    "id": "Qt4WboJgofia"
   },
   "source": [
    "### Complexité de k_means:\n",
    "\n",
    "Dans l'algorithme de k-means, le calcul le plus couteux est le calcul des distances. A chaque itération, il faudrait un total de (mk) calcul de distances où m est le nombre de points et k est le nombre de clusters. <br>\n",
    "Il est évident que les calculs de distances entre un point et les centroïdes n'a pas de  rapport avec les calculs de distancse entre les autres point avec les centroïdes correspondants. Par conséquent, les calculs de distances entre différents points avec des centroïdes peuvent être exécutés en parallèle. <br>\n",
    "Dans chaque itération, les nouveaux centroïdes, qui sont utilisés pour de la prochaine itération, devraient être mis à jour. Par conséquent **les procédures itératives** doivent être exécutées **en série**."
   ]
  },
  {
   "cell_type": "markdown",
   "metadata": {
    "colab_type": "text",
    "id": "DdEA6rQhBlhm"
   },
   "source": [
    "bla bla bla We do understand that not all customers are alike and have the same taste. So, this leads to the challenge of marketing the right product to the right customer. An offer or product which might entice a particular customer segment may not be very helpful to other segments. So, you can apply k-means clustering algorithm to segment your entire customer audience into groups with similar traits and preferences based on various metrics (such as their activities, likes and dislikes on social media and their purchase history). Based on these customer segments identified, you can create personalized marketing strategies and bring more business to your organisation. "
   ]
  },
  {
   "cell_type": "markdown",
   "metadata": {
    "colab_type": "text",
    "id": "-UM0C0MmiyfB"
   },
   "source": [
    "## Simultaion : "
   ]
  },
  {
   "cell_type": "markdown",
   "metadata": {
    "colab_type": "text",
    "id": "yAfz2TXvBlhn"
   },
   "source": [
    "### Generation des données pour le clustering"
   ]
  },
  {
   "cell_type": "markdown",
   "metadata": {
    "colab_type": "text",
    "id": "BXClYBv3JBMr"
   },
   "source": [
    "### code source"
   ]
  },
  {
   "cell_type": "code",
   "execution_count": 115,
   "metadata": {
    "colab": {
     "autoexec": {
      "startup": false,
      "wait_interval": 0
     }
    },
    "colab_type": "code",
    "collapsed": true,
    "id": "qunlMXayBlhr"
   },
   "outputs": [],
   "source": [
    "import matplotlib.pyplot as plt\n",
    "import pandas as pd\n",
    "from sklearn.datasets.samples_generator import make_blobs\n",
    "\n",
    "\n",
    "class Générateur(object):\n",
    " \n",
    "    def générateurData(self,num, outputFile):\n",
    "    \n",
    "        \"\"\"cette fonction permet de générer n'importe quel nombre de points\n",
    "         pour la mise en cluster en utilisant deux arguments , la génération\n",
    "         des points ce faits suivant la loi normale avec une moyenne \n",
    "         representé par les centres et un ecart type de 3,9 et dimension =2\n",
    "         pour pouvoir les visualiser clairement.\n",
    "         tous ces parametres peuvent êtres changés selon le nos préférences\n",
    "         mais dans notre cas on va utiliser cette fonction pour tester notre\n",
    "         algorithme\n",
    "         Parametres : \n",
    "         num: le nombre de points qu'on veut générer \n",
    "         outputFile: le fichier de sortie dans lequel on va enregistrer\n",
    "                     les points\n",
    "        \"\"\"\n",
    "      \n",
    "        #Les vrais centres des clusters\n",
    "        centers = [[-30, -30], [-10, -10], [-1, -1], [10, 10], [30, 30]]\n",
    "        \n",
    "        #Générer des blobs gaussiens isotropes pour le clustering.\n",
    "        X, labels = make_blobs(n_samples=num,\n",
    "                                    centers=centers, cluster_std=3.9,\n",
    "                                    n_features=2)\n",
    "        \n",
    "        #enregistrer des points sur l'image pour faciliter la manipulation\n",
    "        df = pd.DataFrame(X)\n",
    "        \n",
    "        #enregistrer des points dans le fichier de sortie de notre  \n",
    "        #programme mapreduce\n",
    "        df.to_csv(outputFile, header=False, index=False, sep=\" \")\n",
    "\n",
    "        #tracer les points avec des couleurs différentes selon chaque centre \\\n",
    "        #pour pouvoir le comparer plus tard au clustering de notre programme\n",
    "        \n",
    "        plt.figure(figsize=(9,8))\n",
    "        plt.scatter(X[:, 0], X[:, 1], c=labels)\n",
    "        plt.show()\n",
    "        return X, labels\n",
    "    "
   ]
  },
  {
   "cell_type": "markdown",
   "metadata": {
    "colab_type": "text",
    "id": "EYl8N94yI6dC"
   },
   "source": [
    "### generation des données "
   ]
  },
  {
   "cell_type": "code",
   "execution_count": 116,
   "metadata": {
    "colab": {
     "autoexec": {
      "startup": false,
      "wait_interval": 0
     },
     "output_extras": [
      {}
     ]
    },
    "colab_type": "code",
    "id": "AH7irv6EBlhv",
    "outputId": "164147f8-b133-4ad4-c5d1-eb538661f654"
   },
   "outputs": [
    {
     "data": {
      "image/png": "[encoded data removed]",
      "text/plain": [
       "<matplotlib.figure.Figure at 0x7f98f0b88e10>"
      ]
     },
     "metadata": {},
     "output_type": "display_data"
    }
   ],
   "source": [
    "#Dans notre cas on va générer 20,000 point vu qu'on va effectuer le test \n",
    "#sûrmenet d'une maniere distribuée mais sur notre machine locale donc il \n",
    "#faut pas exagérer \n",
    " \n",
    "generator_instance =Générateur()\n",
    "X,labels=generator_instance.générateurData(20000,'input_file.txt')\n",
    "\n",
    "#ci-dissous le vrai schéma des points générés"
   ]
  },
  {
   "cell_type": "code",
   "execution_count": null,
   "metadata": {
    "colab": {
     "autoexec": {
      "startup": false,
      "wait_interval": 0
     }
    },
    "colab_type": "code",
    "collapsed": true,
    "id": "zIlzbasdBlh1"
   },
   "outputs": [],
   "source": [
    "import numpy as np\n",
    "import sys\n",
    "import pylab as plt\n",
    "import numpy as np\n",
    "import random\n",
    "%matplotlib inline  \n",
    "\n",
    "class Our_Kmeans():\n",
    "  \n",
    "    \"\"\"cet algorithme de k-means  permet un clustering  pour grouper \n",
    "       les points qui ont traits et des préférences similaires en se \n",
    "       basant sur la distance euclidienne et la 2ème norme et puis \n",
    "       il trace le resultat de clustering avec des points sous forme\n",
    "       d'etoile qui représente les centres trouvés après la dernire\n",
    "       itération\n",
    "    \"\"\"\n",
    "    \n",
    "    centroids=[]\n",
    "    data=[]\n",
    "    \n",
    "    \n",
    "    def GetData(self,file):\n",
    "        \"\"\"importer les données qui sont supposées être en dimesion \n",
    "           2 pouvoir les visualiser , si non l'algorithme fonctionne \n",
    "           avec n'importe quelle dimension\n",
    "        \"\"\"\n",
    "        data=pd.read_csv(file, header=None, names=[\"x1\", \"x2\"], sep=\" \")\n",
    "        return data.values\n",
    "    \n",
    "    \n",
    "    def __init__(self,file):\n",
    "        \"\"\" initier les données dans la classe (l'objet)\n",
    "        \"\"\"\n",
    "        self.data=self.GetData(file)\n",
    "    \n",
    "    \n",
    "    def GetCentroids(self,k):\n",
    "        \"\"\" choisir k centre aléatoirement pour initier l'algorithme\n",
    "        \"\"\"\n",
    "        initial_centroids = random.sample(list(self.data),k)\n",
    "        initial_centroids=[lst.tolist() for lst in initial_centroids]\n",
    "        initial_centroids.sort()\n",
    "        return initial_centroids\n",
    "    \n",
    "    \n",
    "    def distance_vector(self,v1,v2):\n",
    "        \"\"\"cette fonction permet de calculer la distance entre deux point\n",
    "           quelques soit leur dimension\n",
    "        \"\"\"\n",
    "        diff=[d1 - c2 for d1,c2 in zip(v1,v2)]\n",
    "        return np.linalg.norm(diff)\n",
    "    \n",
    "    \n",
    "    def diff(self,k,centroids1,centroids2):\n",
    "        \"\"\"cette fonction permet de trouver la distance maximale entre\n",
    "           deux centroides parmi les paires des centroides dans les deux\n",
    "           vecteur , elle sera utilisé pour le test d'arrêt de l'algo\n",
    "           cad si la distance maximale ( qui est le pire cas) est infé-\n",
    "           rieur à un seuil , on arrête les itérations\n",
    "        \"\"\"\n",
    "        max_distance = 0.0\n",
    "        for i in range(k):\n",
    "            dist = self.distance_vector(centroids1[i],centroids2[i])\n",
    "            if dist > max_distance:\n",
    "                max_distance = dist\n",
    "\n",
    "        return max_distance\n",
    "        \n",
    "        \n",
    "    def show(self,X, C, centroids, keep = False):\n",
    "        \"\"\"cette fonction permet des visualiser le résultat finale ainsi\n",
    "        que les centres trouvés\n",
    "        \"\"\"\n",
    "        plt.figure(figsize=(9,8))\n",
    "        plt.scatter(X[:, 0], X[:, 1], c=C)        \n",
    "        plt.plot(centroids[:,0],centroids[:,1],'*m',markersize=20)\n",
    "        \n",
    "        \n",
    "    def kMeans(self,K, plot_progress):\n",
    "        \"\"\" cette fonction est le core de notre algorithme, c'est elle qui\n",
    "        fait le calcul des centroides et les points les plus proches de \n",
    "        chaque centroide pour former les groupes\n",
    "        \"\"\"\n",
    "        self.centroids = self.GetCentroids(K)\n",
    "        while True:\n",
    "            # Etape d'affectation de cluster\n",
    "            C = np.array([np.argmin([np.dot(x_i-y_k, x_i-y_k) for y_k in \\\n",
    "                                     self.centroids]) for x_i in X])\n",
    "            # Déplacer les centroïdes\n",
    "            newcentroids = [X[C == k].mean(axis = 0) for k in range(K)]\n",
    "            if self.diff(K,self.centroids,newcentroids)<0.1:\n",
    "                break\n",
    "            else:\n",
    "                self.centroids=newcentroids\n",
    "            # Tracer les points et les centres\n",
    "        if plot_progress==1 : self.show(self.data, C, np.array\\\n",
    "                                        (self.centroids))\n",
    "        return np.array(self.centroids) , C"
   ]
  },
  {
   "cell_type": "markdown",
   "metadata": {
    "colab_type": "text",
    "id": "AcQJgZvsTlDD"
   },
   "source": [
    "### Résultat de clustering avec le kmeans non distribué "
   ]
  },
  {
   "cell_type": "code",
   "execution_count": 117,
   "metadata": {
    "colab": {
     "autoexec": {
      "startup": false,
      "wait_interval": 0
     },
     "output_extras": [
      {}
     ]
    },
    "colab_type": "code",
    "id": "fnzRa92ZBlh4",
    "outputId": "fdd47231-d9c2-40f7-8dc1-a29a2e29ad47"
   },
   "outputs": [
    {
     "data": {
      "image/png": "[encoded data removed]",
      "text/plain": [
       "<matplotlib.figure.Figure at 0x7f98f11ffba8>"
      ]
     },
     "metadata": {},
     "output_type": "display_data"
    }
   ],
   "source": [
    "kr=Our_Kmeans('input_file.txt')\n",
    "X,c=kr.kMeans(K = 5, plot_progress = 1)"
   ]
  },
  {
   "cell_type": "markdown",
   "metadata": {
    "colab_type": "text",
    "id": "F7rw5PfOBlh7"
   },
   "source": [
    "l'algorithme a réussi à trouver les bon centres qui permettent le bon clustering et le résultat est proche de celui tracé avec les vrais clusters"
   ]
  },
  {
   "cell_type": "markdown",
   "metadata": {
    "colab_type": "text",
    "id": "WHPWZYyqWL2R"
   },
   "source": [
    "### Evaluation de l'agorithme non distribué "
   ]
  },
  {
   "cell_type": "code",
   "execution_count": 118,
   "metadata": {
    "colab": {
     "autoexec": {
      "startup": false,
      "wait_interval": 0
     }
    },
    "colab_type": "code",
    "collapsed": true,
    "id": "scEWazDHWLLu"
   },
   "outputs": [],
   "source": [
    "def Score(guess, solution):\n",
    "    n = 0\n",
    "    for l,c in zip(guess,solution):\n",
    "        if l==c:\n",
    "            n+=1\n",
    "    return n"
   ]
  },
  {
   "cell_type": "code",
   "execution_count": 119,
   "metadata": {
    "collapsed": true
   },
   "outputs": [],
   "source": [
    "Acc=Score(labels,c)/len(labels)*100 "
   ]
  },
  {
   "cell_type": "code",
   "execution_count": 120,
   "metadata": {},
   "outputs": [
    {
     "name": "stdout",
     "output_type": "stream",
     "text": [
      "accuracy of the algorithme is :  97.38 %\n"
     ]
    }
   ],
   "source": [
    "print(\"accuracy of the algorithme is : \",Acc, \"%\")"
   ]
  },
  {
   "cell_type": "markdown",
   "metadata": {},
   "source": [
    "accuracy peut être differente selon le choix aléatoire des centroides initiales"
   ]
  },
  {
   "cell_type": "markdown",
   "metadata": {
    "colab_type": "text",
    "id": "4Bzplp4pBlh8"
   },
   "source": [
    "# 2.Le kmeans distribué"
   ]
  },
  {
   "cell_type": "markdown",
   "metadata": {
    "colab_type": "text",
    "id": "x2SJ9HGE94Zg"
   },
   "source": [
    "Comme décrit dans la partie précédente , l'algorithme de KMeans distribué nécessite un job MapReduce.\n",
    "La fonction map exécute la procédure d'assignation de chaque échantillon au plus proche\n",
    "centroïde, tandis que la fonction reduce effectue la procédure de mise à jour des nouveaux centroïdes. <br>\n",
    "Afin de réduire le coût de transfert via le réseau, une fonction combiner est developpée pour traiter le résultat des valeurs intermédiaires avec la même clé pour chaque mapper. <br>\n",
    "<h4> La fonction Map </h4>\n",
    "\n",
    "Pour la fonction Map, l'ensemble des données d'entrée est stocké en tant que fichier de séquence des paires <key, value>, chacune représentant un point dans l'ensemble des données. la clé est l'offset en octets de cette entrée par rapport au point de départ du fichier, et la valeur est les coordonnées de l'entreé. <br>\n",
    "L'ensemble des données est divisé et globalement diffusé à tous les mappers. Par conséquent, les calculs de distance peuvent s'exécuter d'une façon parallèle. <br>\n",
    "Pour chaque mapper, le kmeans distribué utilise au début des centroïdes qui sont fixés aléatoirement sauvegardés comme des variables globales. Compte tenu de ces informations, le mapper peut calculer le centroïde le plus proche pour chaque point. Ainsi les valeurs intermédiaires sont composées de deux parties: le numéro du cluster( qui minimise la distance entre le centroïde et le point considéré) et les coordonnées du point. <br>\n",
    "<h4> La fonction Combiner </h4>\n",
    "Après chaque tâche de map, nous appliquons la fonction combiner pour combiner les données intermédaires issues d'un même mapper. Puisque ces données intermédiares sont stockées sur le disque local de l'hôte, le coût de transfert sur réseau est nul. <br>\n",
    "Dans la fonction combine, nous additionons partiellement les valeurs assignés au même cluster. (Remarque:un compbiner peut être utilisé ici car la fonction somme est commutative et associative qui n'est pas le cas pour la fonction moyenne).\n",
    "Afin de calculer la moyenne des points dans le même cluster, nous devons garder trace du nombre d'échantillons dans le même cluster pour chaque mapper.<br>\n",
    "<h4> La fonction Reduce </h4>\n",
    "L'entrée de la fonction reducer est  les données obtenues à partir la fonction combine (après shuffling and sorting).\n",
    "Comme décrit ci-dessus, les données du combiner comprennent une somme partielle des points dans le même cluster et le nombre d'échantillons de ce cluster. <br>\n",
    "Dans la fonction de réduction, nous pouvons additionner tous les points et calculer le nombre total de points pour chaque cluster. Par conséquent, on peut obtenir les nouveaux centroïdes qui vont être utilisés dans la prochaine itération."
   ]
  },
  {
   "cell_type": "markdown",
   "metadata": {
    "colab_type": "text",
    "id": "6I8C5Z5Y3zA5"
   },
   "source": [
    "### la classe Map_Red_Kmeans : \n",
    "la classe mapreduce_kmeans calcule les centroïdes à utiliser pour faire le clustering final en utilisant mapreduce mrjob qui peut être exécuté localement ou sur hadoop ou sur emr\n"
   ]
  },
  {
   "cell_type": "code",
   "execution_count": null,
   "metadata": {
    "colab": {
     "autoexec": {
      "startup": false,
      "wait_interval": 0
     }
    },
    "colab_type": "code",
    "collapsed": true,
    "id": "N6w9T8rEBlh9"
   },
   "outputs": [],
   "source": [
    "import sys\n",
    "import re\n",
    "import numpy as np\n",
    "import mrjob\n",
    "from mrjob.job import MRJob\n",
    "import math\n",
    "\n",
    "\n",
    "\n",
    "class Map_Red_Kmeans(MRJob):\n",
    "  \n",
    "    \"\"\" la classe mapreduce_kmeans calcule les centroïdes à utiliser pour \n",
    "        la dernière itération de la carte en utilisant mapreduce mrjob\n",
    "        qui peut être exécuté localement ou sur hadoop ou sur emr\n",
    "    \"\"\"\n",
    "\n",
    "    SORT_VALUES = True\n",
    "    OUTPUT_PROTOCOL = mrjob.protocol.RawProtocol\n",
    "    \n",
    "    \n",
    "    def distance_vec(self,d,c):\n",
    "      \n",
    "        \"\"\"calcule la distance entre deux vecteurs (en n'importe quelles\n",
    "           dimensions) \n",
    "           np.linalg.norm (point de données - centroïde)\n",
    "        \"\"\"\n",
    "        \n",
    "        diff=[d1 - c2 for d1,c2 in zip(d,c)]\n",
    "        return np.linalg.norm(diff)\n",
    " \n",
    "    def configure_args(self):\n",
    "        super(Map_Red_Kmeans, self).configure_args()\n",
    "      \n",
    "        #les deux méthodes add_passthru_arg et add_file_arg permet \n",
    "        #d'ajouter des options autre que le fichier d'entrée et de  \n",
    "        #sortie dans les lignes de commandes\n",
    "        \n",
    "        #ajouter le nombre de cluster après l'argument --k\n",
    "        self.add_passthru_arg(\"--k\",  default=4, help=\"Number of clusters.\")\n",
    "        #ajoute le fichier qui contient les centroides après l'argument --c\n",
    "        self.add_file_arg('--c')\n",
    "\n",
    "    def file_to_centroids(self):\n",
    "      \n",
    "    #récupère les centoids du fichier (self.option.c) \n",
    "    #et les transforme en liste\n",
    "    \n",
    "        f = open(self.options.c,'r')\n",
    "        output_data=f.read().split('\\n')\n",
    "        centroids=[]\n",
    "        \n",
    "        #elimier les caracters spéciaux et retourner une liste contenant\n",
    "        #les centroides\n",
    "        #on passer par cette étape car le résultat final des centroides\n",
    "        #retourner par cet algorithme dans le fichier texte est sous cette\n",
    "        #forme [,,] [,,] ...\n",
    "        \n",
    "        for line in output_data:\n",
    "            if line:\n",
    "                newline = re.search(\"\\[(.*?)\\]\", line)\n",
    "                newline = newline.group()\n",
    "                newline = newline.replace(\"[\", \"\").replace(\"]\", \"\")\n",
    "                newline.strip()\n",
    "                k,x,y = newline.split(',')\n",
    "                centroids.append([float(k),float(x),float(y)])\n",
    "        f.close()\n",
    "        return centroids\n",
    " \n",
    "    def mapper(self, _, lines):\n",
    "        \n",
    "        \"\"\" la fonction map , cette fonction calcule la distance entre\n",
    "            chaque points et les centroides et atrribue un classe à chaque\n",
    "            point en se basant sur la distance\n",
    "            les centroides utiliser au debut sont générer aléatoirement mais\n",
    "            aprés, l'algorithme va retourner des centroides et les \n",
    "            réutiliser chaque fois pour les améliorer\n",
    "        \"\"\"\n",
    "       \n",
    "        centroids = self.file_to_centroids()\n",
    "        for l in lines.split('\\n'):\n",
    "            x,y = l.split(' ')\n",
    "            p = [float(x),float(y)]\n",
    "            min_dist=math.inf\n",
    "            classe = 0\n",
    "            \n",
    "            # nous itérons à traver les centroïdes, nous avons k centroïdes \n",
    "            #(nous obtenons le nombre de centroïdes de l'argument k en ligne\n",
    "            #de commande)\n",
    "            #on calcule la distance entre les centroides et les points\n",
    "            for i in range(int(self.options.k)):\n",
    "                dist = self.distance_vec(p,centroids[i][1:])\n",
    "\n",
    "            #on cherche la distance minimale chaque fois qu'on veut attribué\n",
    "            #un point à un cluster (centroide)\n",
    "            \n",
    "                if dist < min_dist:\n",
    "                    min_dist = dist\n",
    "                    classe = centroids[i][0]\n",
    "            \n",
    "        yield classe, p\n",
    " \n",
    "    def combiner(self,k,data_points):\n",
    "    \n",
    "        \"\"\"calculer une somme partielle des points suivi d'un coefficient\n",
    "           avant de calculer la moyenne finale vu que nous ne pouvons pas \n",
    "           calculer la moyenne ici ( la moyenne des moyennes de la somme \n",
    "           est différente de la moyenne de la somme )\n",
    "           on peux procéder par attribuer des coefficients au moyennes\n",
    "           partielles mais cela ne changera pas la complexité de l'algorithme\n",
    "           par rapport au calcul de la somme partielle\n",
    "           les deux methodes permettent de minimiser les flux entre le phase\n",
    "           de mapping et reducing\n",
    "        \"\"\"\n",
    "      \n",
    "        first_sum_points = next(data_points)\n",
    "        first_counter = 1\n",
    "        for data_point in data_points:\n",
    "            first_sum_points=[sum(x) for x in zip(first_sum_points\\\n",
    "                                                  ,data_point)]\n",
    "            first_counter += 1\n",
    "        yield k, (first_sum_points, first_counter)\n",
    "    \n",
    "    \n",
    "    def reducer(self, cluster, v):   \n",
    "        \"\"\" la fonction reducer permet de calculer la moyenne totale des\n",
    "            points qui appartiennent au même custer\n",
    "            ces moyennes représentent les nouveaux centres qui seront\n",
    "            enregister dans le fichier des centroides et utiliser pour \n",
    "            l'itération suivante jusqu'au trouver les centres finals\n",
    "            \n",
    "            paramètres : \n",
    "            cluster :  classe \n",
    "            v :  première somme partielle des points liés à la classe \n",
    "            suivi de son compteur (la somme retourné par le combiner)\n",
    "        \"\"\"\n",
    "\n",
    "        final_sum,final_counter=next(v)\n",
    "        for partial_sum, first_counter in v:\n",
    "            final_sum =[sum(x) for x in zip(final_sum,partial_sum)]\n",
    "            final_counter += first_counter\n",
    "        yield str(cluster) ,str([x / final_counter for x in final_sum])\n",
    " \n",
    " #cette classe permet juste de lancer mapreduce mais pour une seule itération\n",
    "\n",
    "  \n",
    "if __name__ == '__main__':\n",
    "  \n",
    "#ceci pour tester la classe indépendament des autres classe\n",
    "    args = sys.argv[1:]\n",
    "    mr_job=Map_Red_Kmeans(args=[args[0],'--c',args[1],'--k',args[2]])\n",
    " \n",
    "    with mr_job.make_runner() as runner:\n",
    "        runner.run()\n",
    "        for key, value in mr_job.parse_output(runner.cat_output()):\n",
    "            print(key+','+value)"
   ]
  },
  {
   "cell_type": "markdown",
   "metadata": {
    "colab_type": "text",
    "id": "HxvY6yOXBlh_"
   },
   "source": [
    "### la classe MRFinalKMeans\n",
    "c'est elle qui va attribué une classe à chaque point pour le clustering final en se basant sur le resultat retourné par Map_Red_Kmeans aprés plusieurs itération\n"
   ]
  },
  {
   "cell_type": "code",
   "execution_count": null,
   "metadata": {
    "colab": {
     "autoexec": {
      "startup": false,
      "wait_interval": 0
     }
    },
    "colab_type": "code",
    "collapsed": true,
    "id": "Xhs3tkRQBliA"
   },
   "outputs": [],
   "source": [
    "import sys\n",
    "import re\n",
    "import numpy as np\n",
    "import mrjob\n",
    "from mrjob.job import MRJob\n",
    "import math\n",
    "\n",
    "\n",
    "\n",
    "class MRFinalKMeans(MRJob):\n",
    "    \n",
    "    \"\"\" MRFinalKMeans permet tout simplement d'attribué une classe à chaque\n",
    "        point en se basant sur les centroides retournés par la classe \n",
    "        précedantes aprés plusieurs itérations\n",
    "        cette classe ne contient qu'un seul mapper sans reducer\n",
    "    \"\"\"\n",
    "\n",
    "    SORT_VALUES = True\n",
    "    OUTPUT_PROTOCOL = mrjob.protocol.RawProtocol\n",
    "    \n",
    "    def distance_vec(self,d,c):\n",
    "      \n",
    "         \"\"\"calcule la distance entre deux vecteurs (en n'importe quelles\n",
    "           dimensions) \n",
    "           np.linalg.norm (point de données - centroïde)\n",
    "        \"\"\"\n",
    "        \n",
    "        diff=[d1 - c2 for d1,c2 in zip(d,c)]\n",
    "        return np.linalg.norm(diff)\n",
    " \n",
    "\n",
    "    def configure_args(self):\n",
    "  \n",
    "        \"\"\" la même configuration précedantes\"\"\"\n",
    "    \n",
    "        super(MRFinalKMeans, self).configure_args()\n",
    "      \n",
    "        #ajouter le nombre de cluster après l'argument --k\n",
    "        self.add_passthru_arg(\"--k\",  default=4, help=\"Number of clusters.\")\n",
    "\n",
    "        #ajoute le fichier centroide après l'argument --c\n",
    "        self.add_file_arg('--c')\n",
    "\n",
    "    def file_to_centroids(self):\n",
    "      \n",
    "      \"\"\" la même fonction précédante pour le traitement de fichier \n",
    "          contenant les centroides\n",
    "      \"\"\"\n",
    "      \n",
    "        f = open(self.options.c,'r')\n",
    "        output_data=f.read().split('\\n')\n",
    "        centroids=[]\n",
    "        for line in output_data:\n",
    "            if line:\n",
    "                newline = re.search(\"\\[(.*?)\\]\", line)\n",
    "                newline = newline.group()\n",
    "                newline = newline.replace(\"[\", \"\").replace(\"]\", \"\")\n",
    "                newline.strip()\n",
    "                k,x,y = newline.split(',')\n",
    "                centroids.append([float(k),float(x),float(y)])\n",
    "        f.close()\n",
    "        return centroids\n",
    " \n",
    "    def mapper(self, _, lines):\n",
    "       \n",
    "        centroids = self.file_to_centroids()\n",
    "        for l in lines.split('\\n'):\n",
    "            x,y = l.split(' ')\n",
    "            p = [float(x),float(y)]\n",
    "            min_dist=math.inf\n",
    "            classe = 0\n",
    "            \n",
    "            # nous itérons à traver les centroïdes, nous avons k centroïdes \n",
    "            #(nous obtenons le nombre de centroïdes de l'argument k en ligne\n",
    "            #de commande)\n",
    "            #on calcule la distance entre les centroides et les points                          \n",
    "            for i in range(int(self.options.k)):\n",
    "                dist = self.distance_vec(p,centroids[i][1:])\n",
    "                \n",
    "            #on cherche la distance minimale chaque fois qu'on veut attribuer\n",
    "            #un point à un cluster (centroide)\n",
    "                if dist < min_dist:\n",
    "                    min_dist = dist\n",
    "                    classe = centroids[i][0]\n",
    "            \n",
    "        yield str(classe), str(p)\n",
    " \n",
    "\n",
    " # cette fonction sera lancé une seule fois à la fin des itérations de la \n",
    "#phase map reduce qui retourne les centroides cherchés\n",
    "\n",
    " \n",
    "if __name__ == '__main__':\n",
    "#ceci pour tester la classe indépendament des autres classe\n",
    "    args = sys.argv[1:]\n",
    "    mr_job=MRFinalKMeans(args=[args[0],'--c',args[1],'--k',args[2]])\n",
    " \n",
    "    with mr_job.make_runner() as runner:\n",
    "        runner.run()\n",
    "        for key, value in mr_job.parse_output(runner.cat_output()):\n",
    "            print(key+','+value)"
   ]
  },
  {
   "cell_type": "markdown",
   "metadata": {
    "colab_type": "text",
    "id": "wLMZ8kB-BliD"
   },
   "source": [
    "### Main script\n",
    "ce script permet d'itérer les mappeurs et réduceurs de sorte que nous obtenons à chaque itération des nouveaux centroïdes, nous répétons jusqu'à ce que les centroïdes ne changent pas"
   ]
  },
  {
   "cell_type": "code",
   "execution_count": null,
   "metadata": {
    "colab": {
     "autoexec": {
      "startup": false,
      "wait_interval": 0
     }
    },
    "colab_type": "code",
    "collapsed": true,
    "id": "YfrFrKdbBliD"
   },
   "outputs": [],
   "source": [
    "import numpy as np\n",
    "from mrjob.util import to_lines\n",
    "from mrjob.job import MRJob\n",
    "from finalmapper import MRFinalKMeans\n",
    "from math import sqrt\n",
    "from kmeans import Map_Red_Kmeans\n",
    "import sys\n",
    "import os.path\n",
    "import shutil\n",
    "import re\n",
    "\n",
    "\n",
    "#le fichier contenant les premiers centroides qui sont choisis aléatoirement\n",
    "input_centroids = \"/home/djo/centroids.txt\"\n",
    "\n",
    "#le fichier qui va sauvegarder les centroides à chaque itération pour \n",
    "#qu'elles seront utilisées dans les itérations d'aprés comme fichier\n",
    "#d'entrée\n",
    "temp_centroids_file=\"/tmp/centroids.txt\"\n",
    "\n",
    "\n",
    "def get_centroids(job, runner):\n",
    "  \n",
    "    \"\"\" obtenir le centroïde de sortie du mrjob (affichés depuis le terminal) \n",
    "        et les enregister dans une matrice grace à runner.cat_output\n",
    "    \"\"\"\n",
    "    c = []\n",
    "    for key, value in job.parse_output(runner.cat_output()):    \n",
    "        value=value[:1]+key+','+value[1:]       \n",
    "        c.append(value)\n",
    "    return c\n",
    "\n",
    "  \n",
    "  \n",
    "def get_first_c(fname):\n",
    "  \n",
    "    \"\"\" obtenir les premiers centroïdes à partir de du fichier d'entrée \n",
    "        et non pas à partir de la sortie de mrjob comme la fonction \n",
    "        précedante \n",
    "    \"\"\"\n",
    "    f = open(fname,'r')\n",
    "    centroids=[]\n",
    "    for line in f.read().split('\\n'):\n",
    "        if line:\n",
    "                newline = re.search(\"\\[(.*?)\\]\", line)\n",
    "                newline = newline.group()\n",
    "                newline = newline.replace(\"[\", \"\").replace(\"]\", \"\")\n",
    "                newline.strip()\n",
    "                k,x,y = newline.split(',')\n",
    "                centroids.append([float(k),float(x),float(y)])\n",
    "    f.close()\n",
    "    return centroids\n",
    "\n",
    "\n",
    "\n",
    "def distance_vec(d,centroid):\n",
    "        \"\"\"calcule la distance entre deux vecteurs (en n'importe quelles\n",
    "           dimensions) \n",
    "           np.linalg.norm (point de données - centroïde)\n",
    "        \"\"\"\n",
    "        diff=[d1 - c2 for d1,c2 in zip(d,centroid)]\n",
    "        return np.linalg.norm(diff)\n",
    "\n",
    "      \n",
    "def diff(k,centroids1,centroids2):\n",
    "    \"\"\"calculer la distance entre les anciens centroïdes et les nouveaux\n",
    "       centroïdes pour savoir si ils sont changés ou non , si oui on continue\n",
    "       , si non on sort de la boucle de l'iteration.\n",
    "    \"\"\"\n",
    "    max_distance = 0.0\n",
    "    for i in range(k):\n",
    "        dist = distance_vec(centroids1[i],centroids2[i])\n",
    "\n",
    "        if dist > max_distance:\n",
    "            max_distance = dist\n",
    "            \n",
    "    #la fonction retourne seulement la distance maximale entre les paires\n",
    "    #des centroides , si cette distance est minime ou nulle, cela implique \n",
    "    #que les autres distances le sont aussi donc les centroîdes ne changent\n",
    "    #plus donc on arrête la boucle.\n",
    "    \n",
    "    return max_distance\n",
    "\n",
    "\n",
    "  \n",
    "def write_centroids(centroids):\n",
    "    \n",
    "    \"\"\"cette fonction permet d'écrire les centroïdes trouvés à chaque \n",
    "       itération dans le fichier temporaire  pour les tester avec la fonction \n",
    "       diff et les utiliser comme centroïdes initiaux pour l'itération \n",
    "       suivantes\n",
    "    \"\"\"  \n",
    "    f = open(temp_centroids_file, \"w\")\n",
    "    centroids.sort()\n",
    "    for c in centroids:\n",
    "        f.write(c)\n",
    "    f.close()\n",
    "\n",
    "\n",
    "    #la main script qui va assurer l'itération d'une manière distribuée\n",
    "if __name__ == '__main__':\n",
    "  \n",
    "    #importer les arguments depuis la ligne de commande\n",
    "    args = sys.argv[1:]\n",
    "  \n",
    "    #copier le ficher des centroides initiaux qui sont choisis aléatoirement\n",
    "    #dans le répertoire temporaire  qui sera utilisé pour sauvegarder les \n",
    "    #centroides de chaques itération\n",
    "    shutil.copy(input_centroids,temp_centroids_file)\n",
    "    \n",
    "    #récupérer les centroides initiaux pour initier l'algorithme\n",
    "    old_centroids = get_first_c(input_centroids)\n",
    "\n",
    "    \n",
    "    #la boucle des itérations pour chercher les centroides\n",
    "    while True:\n",
    "        \n",
    "        #instancier la classe Map_Red_Kmeans avec les arguments de la ligne \n",
    "        #de commande (nombre de clusters et le fichier d'entré)\n",
    "        #le fichier temporaire est par defaut dans temp_centroids_file donc\n",
    "        #il suffit d'entrer deux arguments : \n",
    "        #args[0] : les points générés au debut \n",
    "        #args[1] : le nombre de cluster souhaités\n",
    "        mr_job=Map_Red_Kmeans(args=[args[0],'--c',temp_centroids_file,'--k'\\\n",
    "                                    ,args[1]])\n",
    " \n",
    "\n",
    "        with mr_job.make_runner() as runner:\n",
    "            #exécuter le mar reduce job qui permet chercher les centroides\n",
    "            runner.run()\n",
    "        \n",
    "            #mettre le resultat retourné par le mrjob (les centroides) dans \n",
    "            #une matrice\n",
    "            centroids = get_centroids(mr_job,runner)\n",
    "        \n",
    "        #écrire les centroides trouvés dans le fichier temporaire pour\n",
    "        #pouvoir les utiliser dans l'itération suivante\n",
    "        \n",
    "        write_centroids(centroids)\n",
    "        #récupérer les centroides depuis le fichiers temporaire \n",
    "        new_centroids = get_first_c(temp_centroids_file)\n",
    "        \n",
    "        #comparer les centroides retournés par le mrjob avec les \n",
    "        #anciens centroîdes\n",
    "        max_d = diff(int(args[1]),new_centroids,old_centroids)\n",
    "        \n",
    "        #si la distance est négligebale ou nulle , on peut assumer que \n",
    "        #les centroides ne changent plus et donc on sort de la boucle\n",
    "        #si non on remplaces les centroîdes précédants par les \n",
    "        #nouveaux centroîdes et on répète la même itération mais avec la \n",
    "        #nouvelle entrée\n",
    "        if max_d < 0.001:\n",
    "            break\n",
    "        else:\n",
    "            old_centroids = new_centroids\n",
    "\n",
    "    #aprés qu'on sort de la boucle , on attribue chaque point à sa classe( à \n",
    "    #son centroîde le plus proche) par un autre map reduce job\n",
    "    mr_job=MRFinalKMeans(args=[args[0],'--c',temp_centroids_file,'--k',\\\n",
    "                               args[1]])\n",
    " \n",
    "    with mr_job.make_runner() as runner:\n",
    "        runner.run()\n",
    "    #afficher les résultat finals contenant et les écrire  dans \n",
    "    #un fichier (le ficiher sera mentionné dans la ligne de commande)\n",
    "    #chaque point avec sa classe\n",
    "        for key, value in mr_job.parse_output(runner.cat_output()):\n",
    "            print(key+','+value)\n"
   ]
  },
  {
   "cell_type": "markdown",
   "metadata": {
    "colab_type": "text",
    "id": "OKF_is7GBliG"
   },
   "source": [
    "Pour cet exemple il nous a fallu 9 itérations pour arriver aux centroïdes finaux"
   ]
  },
  {
   "cell_type": "markdown",
   "metadata": {
    "colab_type": "text",
    "id": "TspmbYBRxbcq"
   },
   "source": [
    "### Visualisation du résultat final"
   ]
  },
  {
   "cell_type": "code",
   "execution_count": 121,
   "metadata": {
    "colab": {
     "autoexec": {
      "startup": false,
      "wait_interval": 0
     }
    },
    "colab_type": "code",
    "collapsed": true,
    "id": "R8NT8VgiBliH"
   },
   "outputs": [],
   "source": [
    "# en utilisant pandas , on transforme le fichier trouvé txt retourné par \n",
    "# le mrjob final en dataframe contenant trois colonnes:\n",
    "# 1ere colonne est celle du cluster (ou bien la classe)\n",
    "# 2eme colonne est celle du composant x du point\n",
    "# 3eme colonne est celle du composant y du point \n",
    "# vu qu'on a utilisé des points en deux dimensions pour faciliter la visua-\n",
    "#lisation des données , si non notre algorithme peut fonctionner avec n'im-\n",
    "#porte quelle dimension\n",
    "df=pd.read_csv(\"text.txt\",header=None)\n",
    "df.columns=[\"cluster\",\"x\",\"y\"]\n",
    "df[\"x\"]=df[\"x\"].apply(lambda x: x[1:])\n",
    "df[\"y\"]=df[\"y\"].apply(lambda x: x[:-1])\n",
    "\n",
    "#de meme en utilisant pandas , on transforme le fichier centroids.txt \n",
    "#en dataframe pour le visualiser avec les points trouvés\n",
    "centroids=pd.read_csv(\"centroids.txt\",header=None)\n",
    "centroids.columns=[\"cluster\",\"x\",\"y\"]\n",
    "centroids[\"cluster\"]=centroids[\"cluster\"].apply(lambda x: x[1:])\n",
    "centroids[\"y\"]=centroids[\"y\"].apply(lambda x: x[:-1])"
   ]
  },
  {
   "cell_type": "code",
   "execution_count": 123,
   "metadata": {
    "colab": {
     "autoexec": {
      "startup": false,
      "wait_interval": 0
     },
     "output_extras": [
      {}
     ]
    },
    "colab_type": "code",
    "id": "YBhRpyI3BliN",
    "outputId": "acb81744-e8c0-4873-c182-d8029844f111"
   },
   "outputs": [
    {
     "data": {
      "text/html": [
       "<div>\n",
       "<style>\n",
       "    .dataframe thead tr:only-child th {\n",
       "        text-align: right;\n",
       "    }\n",
       "\n",
       "    .dataframe thead th {\n",
       "        text-align: left;\n",
       "    }\n",
       "\n",
       "    .dataframe tbody tr th {\n",
       "        vertical-align: top;\n",
       "    }\n",
       "</style>\n",
       "<table border=\"1\" class=\"dataframe\">\n",
       "  <thead>\n",
       "    <tr style=\"text-align: right;\">\n",
       "      <th></th>\n",
       "      <th>cluster</th>\n",
       "      <th>x</th>\n",
       "      <th>y</th>\n",
       "    </tr>\n",
       "  </thead>\n",
       "  <tbody>\n",
       "    <tr>\n",
       "      <th>0</th>\n",
       "      <td>0</td>\n",
       "      <td>-30.043517</td>\n",
       "      <td>-30.312381535798494</td>\n",
       "    </tr>\n",
       "    <tr>\n",
       "      <th>1</th>\n",
       "      <td>1</td>\n",
       "      <td>-10.828563</td>\n",
       "      <td>-11.9468515624217155</td>\n",
       "    </tr>\n",
       "    <tr>\n",
       "      <th>2</th>\n",
       "      <td>2</td>\n",
       "      <td>0.274863</td>\n",
       "      <td>-1.1423009429543014</td>\n",
       "    </tr>\n",
       "    <tr>\n",
       "      <th>3</th>\n",
       "      <td>3</td>\n",
       "      <td>10.872054</td>\n",
       "      <td>10.90708854217947</td>\n",
       "    </tr>\n",
       "    <tr>\n",
       "      <th>4</th>\n",
       "      <td>4</td>\n",
       "      <td>28.303327</td>\n",
       "      <td>30.19911296729876</td>\n",
       "    </tr>\n",
       "  </tbody>\n",
       "</table>\n",
       "</div>"
      ],
      "text/plain": [
       "  cluster          x                      y\n",
       "0       0 -30.043517    -30.312381535798494\n",
       "1       1 -10.828563   -11.9468515624217155\n",
       "2       2   0.274863    -1.1423009429543014\n",
       "3       3  10.872054      10.90708854217947\n",
       "4       4  28.303327      30.19911296729876"
      ]
     },
     "execution_count": 123,
     "metadata": {},
     "output_type": "execute_result"
    }
   ],
   "source": [
    "#nos centroides trouvés avec kmeans disribué (trés proche des centres réels)\n",
    "centroids.head()"
   ]
  },
  {
   "cell_type": "markdown",
   "metadata": {
    "colab_type": "text",
    "id": "-7CNvYo0BliW"
   },
   "source": [
    "les résultats utilisant le kmeans distribués sont à peu près les mêmes que les étiquettes originales"
   ]
  },
  {
   "cell_type": "code",
   "execution_count": 124,
   "metadata": {
    "colab": {
     "autoexec": {
      "startup": false,
      "wait_interval": 0
     },
     "output_extras": [
      {}
     ]
    },
    "colab_type": "code",
    "id": "PJiC-VKiBliX",
    "outputId": "f8faeb26-9536-4fa5-981d-f1d01cf439e6"
   },
   "outputs": [
    {
     "data": {
      "image/png": "[encoded data removed]",
      "text/plain": [
       "<matplotlib.figure.Figure at 0x7f98f086b898>"
      ]
     },
     "metadata": {},
     "output_type": "display_data"
    }
   ],
   "source": [
    "#la taille du figure\n",
    "plt.figure(figsize=(9,8))\n",
    "#afficher les points\n",
    "plt.scatter(df[\"x\"].values, df[\"y\"].values, c=df[\"cluster\"].values)\n",
    "#afficher les centres sous forme d'étoile\n",
    "plt.plot(centroids[\"x\"].values,centroids[\"y\"].values,'*m',markersize=20) \n",
    "plt.show()"
   ]
  },
  {
   "cell_type": "markdown",
   "metadata": {
    "colab_type": "text",
    "id": "JxEYciZSzWjc"
   },
   "source": [
    "## Commentaires"
   ]
  },
  {
   "cell_type": "markdown",
   "metadata": {
    "colab_type": "text",
    "id": "Yn8SgCK7zZ9a"
   },
   "source": [
    "* Le language utilisé est python pour que notre algorithme pourrait être compréhensible par tous les data scientist malgré qu'avec java, on aurait pu gagner plus de temps d'execution.\n",
    "Le temps d'exucution de kmeans distribué est beaucoup plus long que celui du kmeans non distribué dans notre cas à cause de : \n",
    "    - petit taille du fichier généré\n",
    "    - cluster sur une seule machine\n",
    "    - cluster locale\n",
    "\n",
    "* En utilisant Amazon Elastic Mapreduce (service payant) le résultat serait incomparable avec un fichier de grosse taille\n",
    "<br>\n",
    "* To calculate accuracy for the mapreduce , we need to sort the predicted points and sort the original points so that we can compare their classe because reducers does not save the order in parallel compute (accuracy of our algorithm is about 95,23% a little bit less than the single run kmeans because we are using a small file which is not the case for big files)\n",
    "* pour exécuter le programme sur une autre machine, il faut faut changer les chemins locaux dans multirun.py\n",
    "\n",
    "* pour exécuter le programme sur hadoop , il suffit d'ajouter hadoop à la ligne de commande d'appel du programme et il faut changer les configuration des arguments dans le main program  et il faut préciser à hadoop quels sonts les mappers et les reducers, c'est simple vu que mrjob supporte hadoop facilement\n",
    "\n",
    "* pour exécuter sur amazon elastic map reduce il faut ajouter emr à la ligne de commande d'appel du programe \n",
    "\n",
    "* si on fait pas appel à hadoop ou à emr comme dans notre cas , mrjob crée son propre cluster distribué dans la machine locale , cette méthode est généralement utilisé pour le test de l'algorithme avant de l'utiliser avec des gros fichiers dans des plateforme payante qui ne tolére pas le fail d'exécution (on paye toujours , c'est le cas de amazon emr) \n",
    "\n",
    "* le code dans le rapport est bien commenté (code 50% / commentaires 50% et explication étape par étape)\n",
    "\n",
    "* le code dans les fichiers source n'est pas bien commenté\n"
   ]
  }
 ],
 "metadata": {
  "colab": {
   "default_view": {},
   "name": "DISTRIBUTEDKMEANSPROJECT.ipynb",
   "provenance": [],
   "version": "0.3.2",
   "views": {}
  },
  "kernelspec": {
   "display_name": "Python 3",
   "language": "python",
   "name": "python3"
  },
  "language_info": {
   "codemirror_mode": {
    "name": "ipython",
    "version": 3
   },
   "file_extension": ".py",
   "mimetype": "text/x-python",
   "name": "python",
   "nbconvert_exporter": "python",
   "pygments_lexer": "ipython3",
   "version": "3.6.2"
  }
 },
 "nbformat": 4,
 "nbformat_minor": 1
}
